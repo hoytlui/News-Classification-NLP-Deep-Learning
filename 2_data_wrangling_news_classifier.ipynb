{
 "cells": [
  {
   "cell_type": "code",
   "execution_count": 1,
   "metadata": {},
   "outputs": [],
   "source": [
    "import pandas as pd"
   ]
  },
  {
   "cell_type": "markdown",
   "metadata": {},
   "source": [
    "## Data Wrangling"
   ]
  },
  {
   "cell_type": "code",
   "execution_count": 2,
   "metadata": {},
   "outputs": [],
   "source": [
    "df = pd.read_csv('data/raw_news.csv', header=0)"
   ]
  },
  {
   "cell_type": "code",
   "execution_count": 3,
   "metadata": {},
   "outputs": [
    {
     "data": {
      "text/plain": [
       "(654642, 2)"
      ]
     },
     "execution_count": 3,
     "metadata": {},
     "output_type": "execute_result"
    }
   ],
   "source": [
    "df.shape"
   ]
  },
  {
   "cell_type": "code",
   "execution_count": 4,
   "metadata": {},
   "outputs": [
    {
     "name": "stdout",
     "output_type": "stream",
     "text": [
      "<class 'pandas.core.frame.DataFrame'>\n",
      "RangeIndex: 654642 entries, 0 to 654641\n",
      "Data columns (total 2 columns):\n",
      " #   Column    Non-Null Count   Dtype  \n",
      "---  ------    --------------   -----  \n",
      " 0   type      0 non-null       float64\n",
      " 1   headline  654642 non-null  object \n",
      "dtypes: float64(1), object(1)\n",
      "memory usage: 10.0+ MB\n"
     ]
    }
   ],
   "source": [
    "df.info()"
   ]
  },
  {
   "cell_type": "code",
   "execution_count": 5,
   "metadata": {},
   "outputs": [
    {
     "data": {
      "text/html": [
       "<div>\n",
       "<style scoped>\n",
       "    .dataframe tbody tr th:only-of-type {\n",
       "        vertical-align: middle;\n",
       "    }\n",
       "\n",
       "    .dataframe tbody tr th {\n",
       "        vertical-align: top;\n",
       "    }\n",
       "\n",
       "    .dataframe thead th {\n",
       "        text-align: right;\n",
       "    }\n",
       "</style>\n",
       "<table border=\"1\" class=\"dataframe\">\n",
       "  <thead>\n",
       "    <tr style=\"text-align: right;\">\n",
       "      <th></th>\n",
       "      <th>type</th>\n",
       "      <th>headline</th>\n",
       "    </tr>\n",
       "  </thead>\n",
       "  <tbody>\n",
       "    <tr>\n",
       "      <th>0</th>\n",
       "      <td>NaN</td>\n",
       "      <td>- german council of economic advisors says cor...</td>\n",
       "    </tr>\n",
       "    <tr>\n",
       "      <th>1</th>\n",
       "      <td>NaN</td>\n",
       "      <td>- russia's federal anti-monopoly service says ...</td>\n",
       "    </tr>\n",
       "    <tr>\n",
       "      <th>2</th>\n",
       "      <td>NaN</td>\n",
       "      <td>- s&amp;p placed icahn enterprises on credit watch...</td>\n",
       "    </tr>\n",
       "    <tr>\n",
       "      <th>3</th>\n",
       "      <td>NaN</td>\n",
       "      <td>-bluemountain capital management says pg&amp;e's \"...</td>\n",
       "    </tr>\n",
       "    <tr>\n",
       "      <th>4</th>\n",
       "      <td>NaN</td>\n",
       "      <td>-grupo aeroportuario del sureste fined $72.54m...</td>\n",
       "    </tr>\n",
       "    <tr>\n",
       "      <th>5</th>\n",
       "      <td>NaN</td>\n",
       "      <td>, galapagos complete sale of biofocus and arge...</td>\n",
       "    </tr>\n",
       "    <tr>\n",
       "      <th>6</th>\n",
       "      <td>NaN</td>\n",
       "      <td>: sports direct international reports 5.5% sta...</td>\n",
       "    </tr>\n",
       "    <tr>\n",
       "      <th>7</th>\n",
       "      <td>NaN</td>\n",
       "      <td>. kroger option alert: oct 18 $24 calls sweep ...</td>\n",
       "    </tr>\n",
       "    <tr>\n",
       "      <th>8</th>\n",
       "      <td>NaN</td>\n",
       "      <td>....he will be successful, especially as the w...</td>\n",
       "    </tr>\n",
       "    <tr>\n",
       "      <th>9</th>\n",
       "      <td>NaN</td>\n",
       "      <td>..long before they get to our southern border....</td>\n",
       "    </tr>\n",
       "  </tbody>\n",
       "</table>\n",
       "</div>"
      ],
      "text/plain": [
       "   type                                           headline\n",
       "0   NaN  - german council of economic advisors says cor...\n",
       "1   NaN  - russia's federal anti-monopoly service says ...\n",
       "2   NaN  - s&p placed icahn enterprises on credit watch...\n",
       "3   NaN  -bluemountain capital management says pg&e's \"...\n",
       "4   NaN  -grupo aeroportuario del sureste fined $72.54m...\n",
       "5   NaN  , galapagos complete sale of biofocus and arge...\n",
       "6   NaN  : sports direct international reports 5.5% sta...\n",
       "7   NaN  . kroger option alert: oct 18 $24 calls sweep ...\n",
       "8   NaN  ....he will be successful, especially as the w...\n",
       "9   NaN  ..long before they get to our southern border...."
      ]
     },
     "execution_count": 5,
     "metadata": {},
     "output_type": "execute_result"
    }
   ],
   "source": [
    "df['headline'] = df['headline'].str.lower()\n",
    "df.head(10)"
   ]
  },
  {
   "cell_type": "code",
   "execution_count": 6,
   "metadata": {},
   "outputs": [],
   "source": [
    "df.loc[df['headline'].str.contains('option alert | options | options traded | options activity | covered call | put/call | calls sweep | puts sweep | exercised option | derivatives | futures'), 'type'] = 'options'\n",
    "df.loc[df['headline'].str.contains(\"benzinga | benzinga's top | changes for | 52-week | stocks to watch | stocks moving | scheduled for | after-hours session | mid-day session | pre-market session | market update | biggest movers | biggest price target changes | daily | stocks | earnings preview | not seeing any news | volatility | takeaways | talks | says | eye | several | shows | outlook | global | results | peek into | top news | s&p | reasons | things | tweet | tweets\"), 'type'] = 'redundant_meaningless' # xx stocks moving\n",
    "df.loc[df['headline'].str.contains('guidance | guidance estimates | estimates | sales growth | guides | revenue | plans to | sees | affirms | reaffirms | fy'), 'type'] = 'company_guidance'\n",
    "df.loc[df['headline'].str.contains('purchase of | merge | merger | acquire | acquires | acquired | business sale'), 'type'] = 'merger_acquisition'\n",
    "df.loc[df['headline'].str.contains('civil action | repurchase | buyback | dividend | partnership | renewal agreement | collaboration | contract | settlement | fda | conference | launches | initiates | unveils | reports | announces | corporate | 13f filing | of its shares | order deal | purchase orders | exercised | exercises | exercise of | 8-k | buy stock | grants | awarded'), 'type'] = 'corporate_action'\n",
    "df.loc[df['headline'].str.contains('upgrades | downgrades | upgraded | downgraded | price target | pt | initiates coverage | outperform | underperform'), 'type'] = 'analyst_action'\n",
    "df.loc[df['headline'].str.contains('eps | earnings | beats | beat | consensus | miss estiamtes | misses'), 'type'] = 'earnings'"
   ]
  },
  {
   "cell_type": "code",
   "execution_count": 7,
   "metadata": {},
   "outputs": [
    {
     "data": {
      "text/plain": [
       "analyst_action           126043\n",
       "earnings                 108442\n",
       "corporate_action          87842\n",
       "redundant_meaningless     58955\n",
       "company_guidance          20402\n",
       "merger_acquisition        11674\n",
       "options                    4655\n",
       "Name: type, dtype: int64"
      ]
     },
     "execution_count": 7,
     "metadata": {},
     "output_type": "execute_result"
    }
   ],
   "source": [
    "df['type'].value_counts()"
   ]
  },
  {
   "cell_type": "code",
   "execution_count": 8,
   "metadata": {},
   "outputs": [
    {
     "data": {
      "text/plain": [
       "array(['redundant_meaningless', nan, 'corporate_action', 'earnings',\n",
       "       'options', 'merger_acquisition', 'company_guidance',\n",
       "       'analyst_action'], dtype=object)"
      ]
     },
     "execution_count": 8,
     "metadata": {},
     "output_type": "execute_result"
    }
   ],
   "source": [
    "df['type'].unique()"
   ]
  },
  {
   "cell_type": "code",
   "execution_count": 9,
   "metadata": {},
   "outputs": [],
   "source": [
    "df.to_csv('data/news_ai.csv', index=0)"
   ]
  }
 ],
 "metadata": {
  "interpreter": {
   "hash": "26f500bea960201299c4c20ec459f8fa4fcde4b86dbf4a5ec1eaa7e722cd4835"
  },
  "kernelspec": {
   "display_name": "Python 3",
   "language": "python",
   "name": "python3"
  },
  "language_info": {
   "codemirror_mode": {
    "name": "ipython",
    "version": 3
   },
   "file_extension": ".py",
   "mimetype": "text/x-python",
   "name": "python",
   "nbconvert_exporter": "python",
   "pygments_lexer": "ipython3",
   "version": "3.8.3"
  }
 },
 "nbformat": 4,
 "nbformat_minor": 2
}
