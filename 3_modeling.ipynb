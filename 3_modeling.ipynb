{
 "metadata": {
  "language_info": {
   "codemirror_mode": {
    "name": "ipython",
    "version": 3
   },
   "file_extension": ".py",
   "mimetype": "text/x-python",
   "name": "python",
   "nbconvert_exporter": "python",
   "pygments_lexer": "ipython3",
   "version": "3.8.3"
  },
  "orig_nbformat": 4,
  "kernelspec": {
   "name": "python3",
   "display_name": "Python 3.8.3 64-bit ('base': conda)"
  },
  "interpreter": {
   "hash": "26f500bea960201299c4c20ec459f8fa4fcde4b86dbf4a5ec1eaa7e722cd4835"
  }
 },
 "nbformat": 4,
 "nbformat_minor": 2,
 "cells": [
  {
   "cell_type": "code",
   "execution_count": 1,
   "metadata": {},
   "outputs": [],
   "source": [
    "from urllib.request import urlopen, Request\n",
    "from bs4 import BeautifulSoup as bs\n",
    "import numpy as np\n",
    "import pandas as pd\n",
    "from sklearn.model_selection import train_test_split\n",
    "import keras\n",
    "import tensorflow as tf\n",
    "from tensorflow.keras.preprocessing.text import Tokenizer\n",
    "from tensorflow.keras.preprocessing.sequence import pad_sequences\n",
    "from tensorflow.keras.models import Sequential\n",
    "from tensorflow.keras.layers import Embedding, Dense, Bidirectional, LSTM, GlobalAveragePooling1D\n",
    "import pickle"
   ]
  },
  {
   "cell_type": "code",
   "execution_count": 10,
   "metadata": {},
   "outputs": [
    {
     "output_type": "execute_result",
     "data": {
      "text/plain": [
       "             type                                           headline\n",
       "0         neutral            stocks that hit 52-week highs on friday\n",
       "1         neutral         stocks that hit 52-week highs on wednesday\n",
       "2         neutral                      71 biggest movers from friday\n",
       "3         neutral       46 stocks moving in friday's mid-day session\n",
       "4  analyst_action  b of a securities maintains neutral on agilent..."
      ],
      "text/html": "<div>\n<style scoped>\n    .dataframe tbody tr th:only-of-type {\n        vertical-align: middle;\n    }\n\n    .dataframe tbody tr th {\n        vertical-align: top;\n    }\n\n    .dataframe thead th {\n        text-align: right;\n    }\n</style>\n<table border=\"1\" class=\"dataframe\">\n  <thead>\n    <tr style=\"text-align: right;\">\n      <th></th>\n      <th>type</th>\n      <th>headline</th>\n    </tr>\n  </thead>\n  <tbody>\n    <tr>\n      <th>0</th>\n      <td>neutral</td>\n      <td>stocks that hit 52-week highs on friday</td>\n    </tr>\n    <tr>\n      <th>1</th>\n      <td>neutral</td>\n      <td>stocks that hit 52-week highs on wednesday</td>\n    </tr>\n    <tr>\n      <th>2</th>\n      <td>neutral</td>\n      <td>71 biggest movers from friday</td>\n    </tr>\n    <tr>\n      <th>3</th>\n      <td>neutral</td>\n      <td>46 stocks moving in friday's mid-day session</td>\n    </tr>\n    <tr>\n      <th>4</th>\n      <td>analyst_action</td>\n      <td>b of a securities maintains neutral on agilent...</td>\n    </tr>\n  </tbody>\n</table>\n</div>"
     },
     "metadata": {},
     "execution_count": 10
    }
   ],
   "source": [
    "df_news_type = pd.read_csv('data/news.csv')\n",
    "df_news_type.head()"
   ]
  },
  {
   "cell_type": "code",
   "execution_count": 14,
   "metadata": {},
   "outputs": [],
   "source": [
    "df_news_type.dropna(subset=['type'], inplace=True)"
   ]
  },
  {
   "cell_type": "code",
   "execution_count": 15,
   "metadata": {},
   "outputs": [
    {
     "output_type": "stream",
     "name": "stdout",
     "text": [
      "<class 'pandas.core.frame.DataFrame'>\nInt64Index: 617228 entries, 0 to 1048574\nData columns (total 2 columns):\n #   Column    Non-Null Count   Dtype \n---  ------    --------------   ----- \n 0   type      617228 non-null  object\n 1   headline  617228 non-null  object\ndtypes: object(2)\nmemory usage: 14.1+ MB\n"
     ]
    }
   ],
   "source": [
    "df_news_type.info()"
   ]
  },
  {
   "cell_type": "code",
   "execution_count": 16,
   "metadata": {},
   "outputs": [
    {
     "output_type": "stream",
     "name": "stdout",
     "text": [
      "{'neutral': 0, 'analyst_action': 1, 'earnings': 2, 'corporate_action': 3, 'merger_acquisition': 4, 'company_guidance': 5, 'options': 6}\n"
     ]
    }
   ],
   "source": [
    "# create mapper\n",
    "mapper = {}\n",
    "for i, news in enumerate(df_news_type['type'].unique()):\n",
    "    mapper[news] = i\n",
    "\n",
    "print(mapper)"
   ]
  },
  {
   "cell_type": "code",
   "execution_count": 17,
   "metadata": {},
   "outputs": [
    {
     "output_type": "stream",
     "name": "stdout",
     "text": [
      "{0: 'neutral', 1: 'analyst_action', 2: 'earnings', 3: 'corporate_action', 4: 'merger_acquisition', 5: 'company_guidance', 6: 'options'}\n"
     ]
    }
   ],
   "source": [
    "# create sentiment dict for later use\n",
    "sentiment_dict = {}\n",
    "for k, v in mapper.items():\n",
    "    sentiment_dict[v] = k\n",
    "\n",
    "print(sentiment_dict)"
   ]
  },
  {
   "cell_type": "code",
   "execution_count": 18,
   "metadata": {},
   "outputs": [
    {
     "output_type": "execute_result",
     "data": {
      "text/plain": [
       "         type                                           headline\n",
       "0           0            stocks that hit 52-week highs on friday\n",
       "1           0         stocks that hit 52-week highs on wednesday\n",
       "2           0                      71 biggest movers from friday\n",
       "3           0       46 stocks moving in friday's mid-day session\n",
       "4           1  b of a securities maintains neutral on agilent...\n",
       "...       ...                                                ...\n",
       "1048568     3  morgan stanley downgrades qlogic corporation t...\n",
       "1048571     3  update: qlogic announces restructuring plan, t...\n",
       "1048572     3  qlogic announces restructuring plan, to cut jo...\n",
       "1048573     3  qlogic corporation reports q4 eps of $0.17 vs ...\n",
       "1048574     3     qlogic reports new $125m revolving credit line\n",
       "\n",
       "[617228 rows x 2 columns]"
      ],
      "text/html": "<div>\n<style scoped>\n    .dataframe tbody tr th:only-of-type {\n        vertical-align: middle;\n    }\n\n    .dataframe tbody tr th {\n        vertical-align: top;\n    }\n\n    .dataframe thead th {\n        text-align: right;\n    }\n</style>\n<table border=\"1\" class=\"dataframe\">\n  <thead>\n    <tr style=\"text-align: right;\">\n      <th></th>\n      <th>type</th>\n      <th>headline</th>\n    </tr>\n  </thead>\n  <tbody>\n    <tr>\n      <th>0</th>\n      <td>0</td>\n      <td>stocks that hit 52-week highs on friday</td>\n    </tr>\n    <tr>\n      <th>1</th>\n      <td>0</td>\n      <td>stocks that hit 52-week highs on wednesday</td>\n    </tr>\n    <tr>\n      <th>2</th>\n      <td>0</td>\n      <td>71 biggest movers from friday</td>\n    </tr>\n    <tr>\n      <th>3</th>\n      <td>0</td>\n      <td>46 stocks moving in friday's mid-day session</td>\n    </tr>\n    <tr>\n      <th>4</th>\n      <td>1</td>\n      <td>b of a securities maintains neutral on agilent...</td>\n    </tr>\n    <tr>\n      <th>...</th>\n      <td>...</td>\n      <td>...</td>\n    </tr>\n    <tr>\n      <th>1048568</th>\n      <td>3</td>\n      <td>morgan stanley downgrades qlogic corporation t...</td>\n    </tr>\n    <tr>\n      <th>1048571</th>\n      <td>3</td>\n      <td>update: qlogic announces restructuring plan, t...</td>\n    </tr>\n    <tr>\n      <th>1048572</th>\n      <td>3</td>\n      <td>qlogic announces restructuring plan, to cut jo...</td>\n    </tr>\n    <tr>\n      <th>1048573</th>\n      <td>3</td>\n      <td>qlogic corporation reports q4 eps of $0.17 vs ...</td>\n    </tr>\n    <tr>\n      <th>1048574</th>\n      <td>3</td>\n      <td>qlogic reports new $125m revolving credit line</td>\n    </tr>\n  </tbody>\n</table>\n<p>617228 rows × 2 columns</p>\n</div>"
     },
     "metadata": {},
     "execution_count": 18
    }
   ],
   "source": [
    "df_news_type['type'] = df_news_type['type'].map(mapper)\n",
    "df_news_type"
   ]
  },
  {
   "cell_type": "code",
   "execution_count": 19,
   "metadata": {},
   "outputs": [
    {
     "output_type": "execute_result",
     "data": {
      "text/plain": [
       "    count          %\n",
       "0  246174  39.883803\n",
       "3  150656  24.408484\n",
       "1  123136  19.949840\n",
       "2   48158   7.802303\n",
       "6   17875   2.896012\n",
       "4   16471   2.668544\n",
       "5   14758   2.391013"
      ],
      "text/html": "<div>\n<style scoped>\n    .dataframe tbody tr th:only-of-type {\n        vertical-align: middle;\n    }\n\n    .dataframe tbody tr th {\n        vertical-align: top;\n    }\n\n    .dataframe thead th {\n        text-align: right;\n    }\n</style>\n<table border=\"1\" class=\"dataframe\">\n  <thead>\n    <tr style=\"text-align: right;\">\n      <th></th>\n      <th>count</th>\n      <th>%</th>\n    </tr>\n  </thead>\n  <tbody>\n    <tr>\n      <th>0</th>\n      <td>246174</td>\n      <td>39.883803</td>\n    </tr>\n    <tr>\n      <th>3</th>\n      <td>150656</td>\n      <td>24.408484</td>\n    </tr>\n    <tr>\n      <th>1</th>\n      <td>123136</td>\n      <td>19.949840</td>\n    </tr>\n    <tr>\n      <th>2</th>\n      <td>48158</td>\n      <td>7.802303</td>\n    </tr>\n    <tr>\n      <th>6</th>\n      <td>17875</td>\n      <td>2.896012</td>\n    </tr>\n    <tr>\n      <th>4</th>\n      <td>16471</td>\n      <td>2.668544</td>\n    </tr>\n    <tr>\n      <th>5</th>\n      <td>14758</td>\n      <td>2.391013</td>\n    </tr>\n  </tbody>\n</table>\n</div>"
     },
     "metadata": {},
     "execution_count": 19
    }
   ],
   "source": [
    "count = pd.concat([df_news_type['type'].value_counts(), df_news_type['type'].value_counts() / len(df_news_type['type']) * 100], axis=1)\n",
    "count.columns = ['count', '%']\n",
    "count.sort_values(by='%', ascending=False)"
   ]
  },
  {
   "source": [
    "## Data preprocessing"
   ],
   "cell_type": "markdown",
   "metadata": {}
  },
  {
   "cell_type": "code",
   "execution_count": 20,
   "metadata": {},
   "outputs": [],
   "source": [
    "# train test split\n",
    "train, test = train_test_split(df_news_type, test_size=0.2)"
   ]
  },
  {
   "cell_type": "code",
   "execution_count": 21,
   "metadata": {},
   "outputs": [],
   "source": [
    "X_train = np.array(train['headline'].tolist().copy())\n",
    "y_train = keras.utils.to_categorical(train['type'].astype('int64'))\n",
    "\n",
    "X_test = np.array(test['headline'].tolist().copy())\n",
    "y_test = keras.utils.to_categorical(test['type'].astype('int64'))"
   ]
  },
  {
   "cell_type": "code",
   "execution_count": 22,
   "metadata": {},
   "outputs": [],
   "source": [
    "# declare variables for preprocessing\n",
    "vocab_size = 1000\n",
    "embedding_dim = 16\n",
    "max_length = 142\n",
    "trunc_type = 'post'\n",
    "padding_type = 'post'\n",
    "oov_token = '<OOV>'\n",
    "\n",
    "# create tokenizer object\n",
    "tokenizer = Tokenizer(num_words=vocab_size, oov_token=oov_token)\n",
    "tokenizer.fit_on_texts(X_train)\n",
    "# tokenizer.word_index"
   ]
  },
  {
   "cell_type": "code",
   "execution_count": 23,
   "metadata": {},
   "outputs": [],
   "source": [
    "# create sequence\n",
    "X_tr_seq = tokenizer.texts_to_sequences(X_train)\n",
    "X_tr_pad = pad_sequences(X_tr_seq, maxlen=max_length, padding=padding_type, truncating=trunc_type)"
   ]
  },
  {
   "cell_type": "code",
   "execution_count": 24,
   "metadata": {},
   "outputs": [],
   "source": [
    "# preprocess labels\n",
    "X_te_seq = tokenizer.texts_to_sequences(X_test)\n",
    "X_te_pad = pad_sequences(X_te_seq, maxlen=max_length, padding=padding_type, truncating=trunc_type)"
   ]
  },
  {
   "cell_type": "code",
   "execution_count": 25,
   "metadata": {},
   "outputs": [],
   "source": [
    "# save tokenizer on system\n",
    "with open('models/tokenizer.pickle', 'wb') as handle:\n",
    "    pickle.dump(tokenizer, handle, protocol=pickle.HIGHEST_PROTOCOL)"
   ]
  },
  {
   "source": [
    "## Modeling"
   ],
   "cell_type": "markdown",
   "metadata": {}
  },
  {
   "cell_type": "code",
   "execution_count": 26,
   "metadata": {},
   "outputs": [
    {
     "output_type": "stream",
     "name": "stdout",
     "text": [
      "Model: \"sequential\"\n_________________________________________________________________\nLayer (type)                 Output Shape              Param #   \n=================================================================\nembedding (Embedding)        (None, 142, 16)           16000     \n_________________________________________________________________\nglobal_average_pooling1d (Gl (None, 16)                0         \n_________________________________________________________________\ndense (Dense)                (None, 32)                544       \n_________________________________________________________________\ndense_1 (Dense)              (None, 7)                 231       \n=================================================================\nTotal params: 16,775\nTrainable params: 16,775\nNon-trainable params: 0\n_________________________________________________________________\n"
     ]
    }
   ],
   "source": [
    "# build neural network\n",
    "model = Sequential()\n",
    "model.add(Embedding(vocab_size, embedding_dim, input_length=max_length))\n",
    "model.add(GlobalAveragePooling1D())\n",
    "model.add(Dense(32, activation='relu'))\n",
    "model.add(Dense(7, activation='softmax'))\n",
    "\n",
    "model.compile(loss='categorical_crossentropy', optimizer='adam', metrics=['accuracy'])\n",
    "model.summary()"
   ]
  },
  {
   "cell_type": "code",
   "execution_count": 27,
   "metadata": {},
   "outputs": [
    {
     "output_type": "stream",
     "name": "stdout",
     "text": [
      "Epoch 1/6\n",
      "15431/15431 [==============================] - 14s 881us/step - loss: 0.5934 - accuracy: 0.7945 - val_loss: 0.0948 - val_accuracy: 0.9748\n",
      "Epoch 2/6\n",
      "15431/15431 [==============================] - 14s 875us/step - loss: 0.0812 - accuracy: 0.9780 - val_loss: 0.0595 - val_accuracy: 0.9824\n",
      "Epoch 3/6\n",
      "15431/15431 [==============================] - 13s 862us/step - loss: 0.0544 - accuracy: 0.9841 - val_loss: 0.0480 - val_accuracy: 0.9854\n",
      "Epoch 4/6\n",
      "15431/15431 [==============================] - 13s 851us/step - loss: 0.0458 - accuracy: 0.9860 - val_loss: 0.0438 - val_accuracy: 0.9858\n",
      "Epoch 5/6\n",
      "15431/15431 [==============================] - 13s 857us/step - loss: 0.0414 - accuracy: 0.9869 - val_loss: 0.0411 - val_accuracy: 0.9867\n",
      "Epoch 6/6\n",
      "15431/15431 [==============================] - 13s 847us/step - loss: 0.0393 - accuracy: 0.9871 - val_loss: 0.0392 - val_accuracy: 0.9872\n"
     ]
    }
   ],
   "source": [
    "# fit and train model\n",
    "num_epochs = 6\n",
    "history = model.fit(X_tr_pad, y_train, epochs=num_epochs, validation_data=(X_te_pad, y_test))"
   ]
  },
  {
   "cell_type": "code",
   "execution_count": 28,
   "metadata": {},
   "outputs": [
    {
     "output_type": "stream",
     "name": "stdout",
     "text": [
      "('Pfizer receives FDA approval for its COVID-19 vaccination',): corporate_action\n",
      "('Tesla expects to deliver 350,000 cars in the next quarter, estimates revenue increased by 5%',): company_guidance\n",
      "('Intel plans to acquire Disney to expand its consumer sector',): merger_acquisition\n",
      "('Apple announces a share repurchase program for up to $25 million',): corporate_action\n",
      "('Microsoft ex-CEO Bill Gates says he loves China',): neutral\n",
      "('Elon Musk will go to the moon with his dogecoin',): neutral\n",
      "('Morgan Stanley analyst upgrades Tesla to Buy, raises price target to $4,000',): analyst_action\n",
      "('AMD Q4-2025 Adj. EPS $1.89 beats $0.85 estimate, sales $3.37B beat $1.33B estimate',): earnings\n",
      "('Notable put options activity in Gamestop',): options\n"
     ]
    }
   ],
   "source": [
    "# testing\n",
    "phrase1 = 'Pfizer receives FDA approval for its COVID-19 vaccination',\n",
    "phrase2 = 'Tesla expects to deliver 350,000 cars in the next quarter, estimates revenue increased by 5%',\n",
    "phrase3 = 'Intel plans to acquire Disney to expand its consumer sector',\n",
    "phrase4 = 'Apple announces a share repurchase program for up to $25 million',\n",
    "phrase5 = 'Microsoft ex-CEO Bill Gates says he loves China',\n",
    "phrase6 = 'Elon Musk will go to the moon with his dogecoin',\n",
    "phrase7 = 'Morgan Stanley analyst upgrades Tesla to Buy, raises price target to $4,000',\n",
    "phrase8 = 'AMD Q4-2025 Adj. EPS $1.89 beats $0.85 estimate, sales $3.37B beat $1.33B estimate',\n",
    "phrase9 = 'Notable put options activity in Gamestop',\n",
    "\n",
    "phrase_list = [phrase1, phrase2, phrase3, phrase4, phrase5, phrase6, phrase7, phrase8, phrase9]\n",
    "\n",
    "for phrase in phrase_list:\n",
    "    X_te_seq = tokenizer.texts_to_sequences(phrase)\n",
    "    X_te_pad = pad_sequences(X_te_seq, maxlen=max_length, padding=padding_type, truncating=trunc_type)\n",
    "\n",
    "    prediction = model.predict(X_te_pad)\n",
    "    classes = np.argmax(prediction, axis=-1)\n",
    "\n",
    "    print(f'{phrase}: {sentiment_dict[int(classes[0])]}')"
   ]
  },
  {
   "cell_type": "code",
   "execution_count": 29,
   "metadata": {},
   "outputs": [],
   "source": [
    "# save model\n",
    "model.save('models/title_model.h5')"
   ]
  },
  {
   "source": [
    "## Predicting"
   ],
   "cell_type": "markdown",
   "metadata": {}
  },
  {
   "cell_type": "code",
   "execution_count": 30,
   "metadata": {},
   "outputs": [],
   "source": [
    "# retrieve data through web scraping\n",
    "base_url = 'https://finviz.com/quote.ashx?t='\n",
    "ticker = 'TSLA'\n",
    "url = base_url + ticker\n",
    "\n",
    "req = Request(url=url, headers={'user-agent': 'Mozilla/5.0'})\n",
    "response = urlopen(req)\n",
    "\n",
    "html = bs(response)\n",
    "news_table = html.find(id='news-table')\n",
    "news_row = news_table.findAll('tr')"
   ]
  },
  {
   "cell_type": "code",
   "execution_count": 31,
   "metadata": {},
   "outputs": [],
   "source": [
    "df_ticker_news = pd.DataFrame(columns=['time', 'title'])"
   ]
  },
  {
   "cell_type": "code",
   "execution_count": 32,
   "metadata": {},
   "outputs": [],
   "source": [
    "for i, row in enumerate(news_row):\n",
    "    a_text = row.a.text\n",
    "    td_text = row.td.text\n",
    "    df_ticker_news = df_ticker_news.append({'time': td_text, 'title': a_text}, ignore_index=True)"
   ]
  },
  {
   "cell_type": "code",
   "execution_count": 33,
   "metadata": {},
   "outputs": [
    {
     "output_type": "execute_result",
     "data": {
      "text/plain": [
       "                   time                                              title\n",
       "0   Jul-13-21 06:31PM    Dow Jones Futures Await Fed Chief Powell As In...\n",
       "1             06:00PM    Tesla Stock Is Falling. Goldman Sachs Is Raisi...\n",
       "2             03:16PM    Forget Tesla fundamentals and watch how the te...\n",
       "3             03:00PM    Why Tesla Stock Just Gave Back Half of Yesterd...\n",
       "4             02:00PM    Is Li Auto Stock A Buy Now? Shares Jump 45% In...\n",
       "..                  ...                                                ...\n",
       "95            11:29AM                 Why Tesla Stock Stumbled on Thursday\n",
       "96            10:20AM    XPeng President on Tesla: Chinese players are ...\n",
       "97            10:10AM    Teslas June China Delivery Numbers Were Good. ...\n",
       "98            09:29AM    Teslas June China Delivery Numbers Were Good, ...\n",
       "99            08:53AM    German region to fine Tesla for illegal constr...\n",
       "\n",
       "[100 rows x 2 columns]"
      ],
      "text/html": "<div>\n<style scoped>\n    .dataframe tbody tr th:only-of-type {\n        vertical-align: middle;\n    }\n\n    .dataframe tbody tr th {\n        vertical-align: top;\n    }\n\n    .dataframe thead th {\n        text-align: right;\n    }\n</style>\n<table border=\"1\" class=\"dataframe\">\n  <thead>\n    <tr style=\"text-align: right;\">\n      <th></th>\n      <th>time</th>\n      <th>title</th>\n    </tr>\n  </thead>\n  <tbody>\n    <tr>\n      <th>0</th>\n      <td>Jul-13-21 06:31PM</td>\n      <td>Dow Jones Futures Await Fed Chief Powell As In...</td>\n    </tr>\n    <tr>\n      <th>1</th>\n      <td>06:00PM</td>\n      <td>Tesla Stock Is Falling. Goldman Sachs Is Raisi...</td>\n    </tr>\n    <tr>\n      <th>2</th>\n      <td>03:16PM</td>\n      <td>Forget Tesla fundamentals and watch how the te...</td>\n    </tr>\n    <tr>\n      <th>3</th>\n      <td>03:00PM</td>\n      <td>Why Tesla Stock Just Gave Back Half of Yesterd...</td>\n    </tr>\n    <tr>\n      <th>4</th>\n      <td>02:00PM</td>\n      <td>Is Li Auto Stock A Buy Now? Shares Jump 45% In...</td>\n    </tr>\n    <tr>\n      <th>...</th>\n      <td>...</td>\n      <td>...</td>\n    </tr>\n    <tr>\n      <th>95</th>\n      <td>11:29AM</td>\n      <td>Why Tesla Stock Stumbled on Thursday</td>\n    </tr>\n    <tr>\n      <th>96</th>\n      <td>10:20AM</td>\n      <td>XPeng President on Tesla: Chinese players are ...</td>\n    </tr>\n    <tr>\n      <th>97</th>\n      <td>10:10AM</td>\n      <td>Teslas June China Delivery Numbers Were Good. ...</td>\n    </tr>\n    <tr>\n      <th>98</th>\n      <td>09:29AM</td>\n      <td>Teslas June China Delivery Numbers Were Good, ...</td>\n    </tr>\n    <tr>\n      <th>99</th>\n      <td>08:53AM</td>\n      <td>German region to fine Tesla for illegal constr...</td>\n    </tr>\n  </tbody>\n</table>\n<p>100 rows × 2 columns</p>\n</div>"
     },
     "metadata": {},
     "execution_count": 33
    }
   ],
   "source": [
    "df_ticker_news"
   ]
  },
  {
   "cell_type": "code",
   "execution_count": 34,
   "metadata": {},
   "outputs": [],
   "source": [
    "# load tokenizer\n",
    "with open('models/tokenizer.pickle', 'rb') as handle:\n",
    "    tokenizer = pickle.load(handle)\n",
    "\n",
    "# load model\n",
    "model = tf.keras.models.load_model('models/title_model.h5')"
   ]
  },
  {
   "cell_type": "code",
   "execution_count": 35,
   "metadata": {},
   "outputs": [],
   "source": [
    "# declare variables for preprocessing\n",
    "vocab_size = 1000\n",
    "max_length = 142\n",
    "trunc_type = 'post'\n",
    "padding_type = 'post'\n",
    "oov_token = '<OOV>'\n",
    "\n",
    "def preprocess_text(text):\n",
    "    sequences = tokenizer.texts_to_sequences(text)\n",
    "    padded = pad_sequences(sequences, maxlen=max_length, padding=padding_type, truncating=trunc_type)\n",
    "    return padded"
   ]
  },
  {
   "cell_type": "code",
   "execution_count": 36,
   "metadata": {},
   "outputs": [
    {
     "output_type": "execute_result",
     "data": {
      "text/plain": [
       "array([[2.4794487e-02, 7.2108355e-07, 9.7438395e-01, 2.8425106e-04,\n",
       "        4.8808669e-04, 2.6510847e-05, 2.2098440e-05],\n",
       "       [1.4058930e-04, 6.8562365e-08, 9.9981636e-01, 8.2254683e-06,\n",
       "        3.2329775e-05, 1.6135360e-06, 7.5198153e-07],\n",
       "       [9.9997032e-01, 7.7505398e-08, 3.3336248e-06, 2.5884779e-05,\n",
       "        3.8086569e-07, 2.9809735e-11, 1.5526874e-09],\n",
       "       [9.9877077e-01, 3.9581527e-04, 4.6124629e-04, 2.2211674e-04,\n",
       "        1.4129023e-04, 2.1510405e-07, 8.4938501e-06],\n",
       "       [9.9991000e-01, 1.4279389e-06, 8.4997072e-07, 8.7313558e-05,\n",
       "        5.1179370e-07, 2.6994038e-10, 9.8725428e-09]], dtype=float32)"
      ]
     },
     "metadata": {},
     "execution_count": 36
    }
   ],
   "source": [
    "padded = preprocess_text(df_ticker_news['title'])\n",
    "prediction = model.predict(padded)\n",
    "prediction[:5]"
   ]
  },
  {
   "cell_type": "code",
   "execution_count": 37,
   "metadata": {},
   "outputs": [
    {
     "output_type": "execute_result",
     "data": {
      "text/plain": [
       "                   time                                              title  \\\n",
       "0   Jul-13-21 06:31PM    Dow Jones Futures Await Fed Chief Powell As In...   \n",
       "1             06:00PM    Tesla Stock Is Falling. Goldman Sachs Is Raisi...   \n",
       "2             03:16PM    Forget Tesla fundamentals and watch how the te...   \n",
       "3             03:00PM    Why Tesla Stock Just Gave Back Half of Yesterd...   \n",
       "4             02:00PM    Is Li Auto Stock A Buy Now? Shares Jump 45% In...   \n",
       "..                  ...                                                ...   \n",
       "95            11:29AM                 Why Tesla Stock Stumbled on Thursday   \n",
       "96            10:20AM    XPeng President on Tesla: Chinese players are ...   \n",
       "97            10:10AM    Teslas June China Delivery Numbers Were Good. ...   \n",
       "98            09:29AM    Teslas June China Delivery Numbers Were Good, ...   \n",
       "99            08:53AM    German region to fine Tesla for illegal constr...   \n",
       "\n",
       "    sent  \n",
       "0      2  \n",
       "1      2  \n",
       "2      0  \n",
       "3      0  \n",
       "4      0  \n",
       "..   ...  \n",
       "95     0  \n",
       "96     2  \n",
       "97     0  \n",
       "98     0  \n",
       "99     0  \n",
       "\n",
       "[100 rows x 3 columns]"
      ],
      "text/html": "<div>\n<style scoped>\n    .dataframe tbody tr th:only-of-type {\n        vertical-align: middle;\n    }\n\n    .dataframe tbody tr th {\n        vertical-align: top;\n    }\n\n    .dataframe thead th {\n        text-align: right;\n    }\n</style>\n<table border=\"1\" class=\"dataframe\">\n  <thead>\n    <tr style=\"text-align: right;\">\n      <th></th>\n      <th>time</th>\n      <th>title</th>\n      <th>sent</th>\n    </tr>\n  </thead>\n  <tbody>\n    <tr>\n      <th>0</th>\n      <td>Jul-13-21 06:31PM</td>\n      <td>Dow Jones Futures Await Fed Chief Powell As In...</td>\n      <td>2</td>\n    </tr>\n    <tr>\n      <th>1</th>\n      <td>06:00PM</td>\n      <td>Tesla Stock Is Falling. Goldman Sachs Is Raisi...</td>\n      <td>2</td>\n    </tr>\n    <tr>\n      <th>2</th>\n      <td>03:16PM</td>\n      <td>Forget Tesla fundamentals and watch how the te...</td>\n      <td>0</td>\n    </tr>\n    <tr>\n      <th>3</th>\n      <td>03:00PM</td>\n      <td>Why Tesla Stock Just Gave Back Half of Yesterd...</td>\n      <td>0</td>\n    </tr>\n    <tr>\n      <th>4</th>\n      <td>02:00PM</td>\n      <td>Is Li Auto Stock A Buy Now? Shares Jump 45% In...</td>\n      <td>0</td>\n    </tr>\n    <tr>\n      <th>...</th>\n      <td>...</td>\n      <td>...</td>\n      <td>...</td>\n    </tr>\n    <tr>\n      <th>95</th>\n      <td>11:29AM</td>\n      <td>Why Tesla Stock Stumbled on Thursday</td>\n      <td>0</td>\n    </tr>\n    <tr>\n      <th>96</th>\n      <td>10:20AM</td>\n      <td>XPeng President on Tesla: Chinese players are ...</td>\n      <td>2</td>\n    </tr>\n    <tr>\n      <th>97</th>\n      <td>10:10AM</td>\n      <td>Teslas June China Delivery Numbers Were Good. ...</td>\n      <td>0</td>\n    </tr>\n    <tr>\n      <th>98</th>\n      <td>09:29AM</td>\n      <td>Teslas June China Delivery Numbers Were Good, ...</td>\n      <td>0</td>\n    </tr>\n    <tr>\n      <th>99</th>\n      <td>08:53AM</td>\n      <td>German region to fine Tesla for illegal constr...</td>\n      <td>0</td>\n    </tr>\n  </tbody>\n</table>\n<p>100 rows × 3 columns</p>\n</div>"
     },
     "metadata": {},
     "execution_count": 37
    }
   ],
   "source": [
    "df_ticker_news['sent'] = np.argmax(prediction, axis=-1)\n",
    "df_ticker_news"
   ]
  },
  {
   "cell_type": "code",
   "execution_count": 38,
   "metadata": {},
   "outputs": [
    {
     "output_type": "execute_result",
     "data": {
      "text/plain": [
       "0    50\n",
       "2    36\n",
       "4     6\n",
       "3     5\n",
       "5     2\n",
       "6     1\n",
       "Name: sent, dtype: int64"
      ]
     },
     "metadata": {},
     "execution_count": 38
    }
   ],
   "source": [
    "df_ticker_news['sent'].value_counts()"
   ]
  },
  {
   "source": [
    "## Conclusion"
   ],
   "cell_type": "markdown",
   "metadata": {}
  },
  {
   "source": [
    "After training the model 6 times, we see 5-6 times is the optimal for modeling building as the accuracy between training and validation set narrows when epoch reaches 4 and 5. Further training will over-fit the model. The model results in a shy of 99% accuracy score, which is very good considering without excessive adjustment of the original dataset. Additionally, it correctly classifies the 9 sample headlines entered.\n",
    "\n",
    "In the end, it classifies 50 of 100 recent news headlines for Tesla as 'neutral', which seems skewed. Logically speaking, it, however, is normal as most news do not have direct impact of the corporate or analyst actions. Hence, most news do not move the stock price."
   ],
   "cell_type": "markdown",
   "metadata": {}
  },
  {
   "source": [
    "### Further work\n",
    "\n",
    "We can make the dataset more balanced by adding more news in the categories other than 'neutral', which has the key of 0 in sentiment_dict.\n",
    "\n",
    "We can also try other neural network models and add more layers to optimize the model."
   ],
   "cell_type": "markdown",
   "metadata": {}
  }
 ]
}