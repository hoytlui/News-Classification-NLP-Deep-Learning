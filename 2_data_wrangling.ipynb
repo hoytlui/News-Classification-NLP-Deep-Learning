{
 "metadata": {
  "language_info": {
   "codemirror_mode": {
    "name": "ipython",
    "version": 3
   },
   "file_extension": ".py",
   "mimetype": "text/x-python",
   "name": "python",
   "nbconvert_exporter": "python",
   "pygments_lexer": "ipython3",
   "version": "3.8.3"
  },
  "orig_nbformat": 4,
  "kernelspec": {
   "name": "python3",
   "display_name": "Python 3.8.3 64-bit ('base': conda)"
  },
  "interpreter": {
   "hash": "26f500bea960201299c4c20ec459f8fa4fcde4b86dbf4a5ec1eaa7e722cd4835"
  }
 },
 "nbformat": 4,
 "nbformat_minor": 2,
 "cells": [
  {
   "cell_type": "code",
   "execution_count": 1,
   "metadata": {},
   "outputs": [],
   "source": [
    "from urllib.request import urlopen, Request\n",
    "from bs4 import BeautifulSoup as bs\n",
    "import numpy as np\n",
    "import pandas as pd\n",
    "from sklearn.model_selection import train_test_split\n",
    "import keras\n",
    "import tensorflow as tf\n",
    "from tensorflow.keras.preprocessing.text import Tokenizer\n",
    "from tensorflow.keras.preprocessing.sequence import pad_sequences\n",
    "from tensorflow.keras.models import Sequential\n",
    "from tensorflow.keras.layers import Embedding, Dense, Bidirectional, LSTM, GlobalAveragePooling1D\n",
    "import pickle"
   ]
  },
  {
   "source": [
    "## Data wrangling"
   ],
   "cell_type": "markdown",
   "metadata": {}
  },
  {
   "cell_type": "code",
   "execution_count": 2,
   "metadata": {},
   "outputs": [
    {
     "output_type": "execute_result",
     "data": {
      "text/plain": [
       "   type                                           headline\n",
       "0   NaN            stocks that hit 52-week highs on friday\n",
       "1   NaN         stocks that hit 52-week highs on wednesday\n",
       "2   NaN                      71 biggest movers from friday\n",
       "3   NaN       46 stocks moving in friday's mid-day session\n",
       "4   NaN  b of a securities maintains neutral on agilent..."
      ],
      "text/html": "<div>\n<style scoped>\n    .dataframe tbody tr th:only-of-type {\n        vertical-align: middle;\n    }\n\n    .dataframe tbody tr th {\n        vertical-align: top;\n    }\n\n    .dataframe thead th {\n        text-align: right;\n    }\n</style>\n<table border=\"1\" class=\"dataframe\">\n  <thead>\n    <tr style=\"text-align: right;\">\n      <th></th>\n      <th>type</th>\n      <th>headline</th>\n    </tr>\n  </thead>\n  <tbody>\n    <tr>\n      <th>0</th>\n      <td>NaN</td>\n      <td>stocks that hit 52-week highs on friday</td>\n    </tr>\n    <tr>\n      <th>1</th>\n      <td>NaN</td>\n      <td>stocks that hit 52-week highs on wednesday</td>\n    </tr>\n    <tr>\n      <th>2</th>\n      <td>NaN</td>\n      <td>71 biggest movers from friday</td>\n    </tr>\n    <tr>\n      <th>3</th>\n      <td>NaN</td>\n      <td>46 stocks moving in friday's mid-day session</td>\n    </tr>\n    <tr>\n      <th>4</th>\n      <td>NaN</td>\n      <td>b of a securities maintains neutral on agilent...</td>\n    </tr>\n  </tbody>\n</table>\n</div>"
     },
     "metadata": {},
     "execution_count": 2
    }
   ],
   "source": [
    "df = pd.read_csv('data/raw_news.csv', header=0)\n",
    "df.head()"
   ]
  },
  {
   "cell_type": "code",
   "execution_count": 3,
   "metadata": {},
   "outputs": [
    {
     "output_type": "execute_result",
     "data": {
      "text/plain": [
       "(1048575, 2)"
      ]
     },
     "metadata": {},
     "execution_count": 3
    }
   ],
   "source": [
    "df.shape"
   ]
  },
  {
   "cell_type": "code",
   "execution_count": 4,
   "metadata": {},
   "outputs": [
    {
     "output_type": "stream",
     "name": "stdout",
     "text": [
      "<class 'pandas.core.frame.DataFrame'>\nRangeIndex: 1048575 entries, 0 to 1048574\nData columns (total 2 columns):\n #   Column    Non-Null Count    Dtype  \n---  ------    --------------    -----  \n 0   type      0 non-null        float64\n 1   headline  1048575 non-null  object \ndtypes: float64(1), object(1)\nmemory usage: 16.0+ MB\n"
     ]
    }
   ],
   "source": [
    "df.info()"
   ]
  },
  {
   "cell_type": "code",
   "execution_count": 5,
   "metadata": {},
   "outputs": [
    {
     "output_type": "execute_result",
     "data": {
      "text/plain": [
       "   type                                           headline\n",
       "0   NaN            stocks that hit 52-week highs on friday\n",
       "1   NaN         stocks that hit 52-week highs on wednesday\n",
       "2   NaN                      71 biggest movers from friday\n",
       "3   NaN       46 stocks moving in friday's mid-day session\n",
       "4   NaN  b of a securities maintains neutral on agilent...\n",
       "5   NaN  cfra maintains hold on agilent technologies, l...\n",
       "6   NaN  ubs maintains neutral on agilent technologies,...\n",
       "7   NaN  agilent technologies shares are trading higher...\n",
       "8   NaN  wells fargo maintains overweight on agilent te...\n",
       "9   NaN         10 biggest price target changes for friday"
      ],
      "text/html": "<div>\n<style scoped>\n    .dataframe tbody tr th:only-of-type {\n        vertical-align: middle;\n    }\n\n    .dataframe tbody tr th {\n        vertical-align: top;\n    }\n\n    .dataframe thead th {\n        text-align: right;\n    }\n</style>\n<table border=\"1\" class=\"dataframe\">\n  <thead>\n    <tr style=\"text-align: right;\">\n      <th></th>\n      <th>type</th>\n      <th>headline</th>\n    </tr>\n  </thead>\n  <tbody>\n    <tr>\n      <th>0</th>\n      <td>NaN</td>\n      <td>stocks that hit 52-week highs on friday</td>\n    </tr>\n    <tr>\n      <th>1</th>\n      <td>NaN</td>\n      <td>stocks that hit 52-week highs on wednesday</td>\n    </tr>\n    <tr>\n      <th>2</th>\n      <td>NaN</td>\n      <td>71 biggest movers from friday</td>\n    </tr>\n    <tr>\n      <th>3</th>\n      <td>NaN</td>\n      <td>46 stocks moving in friday's mid-day session</td>\n    </tr>\n    <tr>\n      <th>4</th>\n      <td>NaN</td>\n      <td>b of a securities maintains neutral on agilent...</td>\n    </tr>\n    <tr>\n      <th>5</th>\n      <td>NaN</td>\n      <td>cfra maintains hold on agilent technologies, l...</td>\n    </tr>\n    <tr>\n      <th>6</th>\n      <td>NaN</td>\n      <td>ubs maintains neutral on agilent technologies,...</td>\n    </tr>\n    <tr>\n      <th>7</th>\n      <td>NaN</td>\n      <td>agilent technologies shares are trading higher...</td>\n    </tr>\n    <tr>\n      <th>8</th>\n      <td>NaN</td>\n      <td>wells fargo maintains overweight on agilent te...</td>\n    </tr>\n    <tr>\n      <th>9</th>\n      <td>NaN</td>\n      <td>10 biggest price target changes for friday</td>\n    </tr>\n  </tbody>\n</table>\n</div>"
     },
     "metadata": {},
     "execution_count": 5
    }
   ],
   "source": [
    "df['headline'] = df['headline'].str.lower()\n",
    "df.head(10)"
   ]
  },
  {
   "cell_type": "code",
   "execution_count": 6,
   "metadata": {},
   "outputs": [],
   "source": [
    "df.loc[df['headline'].str.contains('upgrades | downgrades | upgraded | downgraded | price target | pt | coverage'), 'type'] = 'analyst_action'\n",
    "df.loc[df['headline'].str.contains('eps | earnings | beats'), 'type'] = 'earnings'\n",
    "df.loc[df['headline'].str.contains('guidance estimates | sales growth | guidance | guides | revenue'), 'type'] = 'company_guidance'\n",
    "df.loc[df['headline'].str.contains('civil action | repurchase | buyback | dividend | partnership | agreement | contract | settlement | fda | conference | launches | unveils | reports | announces | corporate'), 'type'] = 'corporate_action'\n",
    "df.loc[df['headline'].str.contains('option | options | covered call | put/call | derivatives'), 'type'] = 'options'\n",
    "df.loc[df['headline'].str.contains('renewal | purchase | merger | acquire'), 'type'] = 'merger_acquisition'\n",
    "df.loc[df['headline'].str.contains('session | week | not seeing any news | watch | moving | movers | volatility | shares | why | takeaways | talks | says | eye | several | how | shows | outlook | global | update | results | 52-week'), 'type'] = 'neutral'"
   ]
  },
  {
   "cell_type": "code",
   "execution_count": 7,
   "metadata": {},
   "outputs": [
    {
     "output_type": "execute_result",
     "data": {
      "text/plain": [
       "neutral               246174\n",
       "corporate_action      150656\n",
       "analyst_action        123136\n",
       "earnings               48158\n",
       "options                17875\n",
       "merger_acquisition     16471\n",
       "company_guidance       14758\n",
       "Name: type, dtype: int64"
      ]
     },
     "metadata": {},
     "execution_count": 7
    }
   ],
   "source": [
    "df['type'].value_counts()"
   ]
  },
  {
   "cell_type": "code",
   "execution_count": 8,
   "metadata": {},
   "outputs": [
    {
     "output_type": "execute_result",
     "data": {
      "text/plain": [
       "array(['neutral', 'analyst_action', 'earnings', nan, 'corporate_action',\n",
       "       'merger_acquisition', 'company_guidance', 'options'], dtype=object)"
      ]
     },
     "metadata": {},
     "execution_count": 8
    }
   ],
   "source": [
    "df['type'].unique()"
   ]
  },
  {
   "cell_type": "code",
   "execution_count": 9,
   "metadata": {},
   "outputs": [],
   "source": [
    "# save a copy\n",
    "df.to_csv('data/news.csv', index=0)"
   ]
  },
  {
   "cell_type": "code",
   "execution_count": 10,
   "metadata": {},
   "outputs": [
    {
     "output_type": "execute_result",
     "data": {
      "text/plain": [
       "             type                                           headline\n",
       "0         neutral            stocks that hit 52-week highs on friday\n",
       "1         neutral         stocks that hit 52-week highs on wednesday\n",
       "2         neutral                      71 biggest movers from friday\n",
       "3         neutral       46 stocks moving in friday's mid-day session\n",
       "4  analyst_action  b of a securities maintains neutral on agilent..."
      ],
      "text/html": "<div>\n<style scoped>\n    .dataframe tbody tr th:only-of-type {\n        vertical-align: middle;\n    }\n\n    .dataframe tbody tr th {\n        vertical-align: top;\n    }\n\n    .dataframe thead th {\n        text-align: right;\n    }\n</style>\n<table border=\"1\" class=\"dataframe\">\n  <thead>\n    <tr style=\"text-align: right;\">\n      <th></th>\n      <th>type</th>\n      <th>headline</th>\n    </tr>\n  </thead>\n  <tbody>\n    <tr>\n      <th>0</th>\n      <td>neutral</td>\n      <td>stocks that hit 52-week highs on friday</td>\n    </tr>\n    <tr>\n      <th>1</th>\n      <td>neutral</td>\n      <td>stocks that hit 52-week highs on wednesday</td>\n    </tr>\n    <tr>\n      <th>2</th>\n      <td>neutral</td>\n      <td>71 biggest movers from friday</td>\n    </tr>\n    <tr>\n      <th>3</th>\n      <td>neutral</td>\n      <td>46 stocks moving in friday's mid-day session</td>\n    </tr>\n    <tr>\n      <th>4</th>\n      <td>analyst_action</td>\n      <td>b of a securities maintains neutral on agilent...</td>\n    </tr>\n  </tbody>\n</table>\n</div>"
     },
     "metadata": {},
     "execution_count": 10
    }
   ],
   "source": [
    "df_news_type = pd.read_csv('data/news.csv')\n",
    "df_news_type.head()"
   ]
  },
  {
   "cell_type": "code",
   "execution_count": 11,
   "metadata": {},
   "outputs": [
    {
     "output_type": "stream",
     "name": "stdout",
     "text": [
      "<class 'pandas.core.frame.DataFrame'>\nRangeIndex: 1048575 entries, 0 to 1048574\nData columns (total 2 columns):\n #   Column    Non-Null Count    Dtype \n---  ------    --------------    ----- \n 0   type      617228 non-null   object\n 1   headline  1048575 non-null  object\ndtypes: object(2)\nmemory usage: 16.0+ MB\n"
     ]
    }
   ],
   "source": [
    "df_news_type.info()"
   ]
  },
  {
   "cell_type": "code",
   "execution_count": 12,
   "metadata": {},
   "outputs": [
    {
     "output_type": "execute_result",
     "data": {
      "text/plain": [
       "(1048575, 2)"
      ]
     },
     "metadata": {},
     "execution_count": 12
    }
   ],
   "source": [
    "df_news_type.shape"
   ]
  },
  {
   "cell_type": "code",
   "execution_count": 13,
   "metadata": {},
   "outputs": [
    {
     "output_type": "execute_result",
     "data": {
      "text/plain": [
       "type        431347\n",
       "headline         0\n",
       "dtype: int64"
      ]
     },
     "metadata": {},
     "execution_count": 13
    }
   ],
   "source": [
    "df_news_type.isnull().sum()"
   ]
  },
  {
   "cell_type": "code",
   "execution_count": 14,
   "metadata": {},
   "outputs": [],
   "source": [
    "df_news_type.dropna(subset=['type'], inplace=True)"
   ]
  },
  {
   "cell_type": "code",
   "execution_count": 15,
   "metadata": {},
   "outputs": [
    {
     "output_type": "stream",
     "name": "stdout",
     "text": [
      "<class 'pandas.core.frame.DataFrame'>\nInt64Index: 617228 entries, 0 to 1048574\nData columns (total 2 columns):\n #   Column    Non-Null Count   Dtype \n---  ------    --------------   ----- \n 0   type      617228 non-null  object\n 1   headline  617228 non-null  object\ndtypes: object(2)\nmemory usage: 14.1+ MB\n"
     ]
    }
   ],
   "source": [
    "df_news_type.info()"
   ]
  },
  {
   "cell_type": "code",
   "execution_count": 16,
   "metadata": {},
   "outputs": [
    {
     "output_type": "stream",
     "name": "stdout",
     "text": [
      "{'neutral': 0, 'analyst_action': 1, 'earnings': 2, 'corporate_action': 3, 'merger_acquisition': 4, 'company_guidance': 5, 'options': 6}\n"
     ]
    }
   ],
   "source": [
    "# create mapper\n",
    "mapper = {}\n",
    "for i, news in enumerate(df_news_type['type'].unique()):\n",
    "    mapper[news] = i\n",
    "\n",
    "print(mapper)"
   ]
  },
  {
   "cell_type": "code",
   "execution_count": 17,
   "metadata": {},
   "outputs": [
    {
     "output_type": "stream",
     "name": "stdout",
     "text": [
      "{0: 'neutral', 1: 'analyst_action', 2: 'earnings', 3: 'corporate_action', 4: 'merger_acquisition', 5: 'company_guidance', 6: 'options'}\n"
     ]
    }
   ],
   "source": [
    "# create sentiment dict for later use\n",
    "sentiment_dict = {}\n",
    "for k, v in mapper.items():\n",
    "    sentiment_dict[v] = k\n",
    "\n",
    "print(sentiment_dict)"
   ]
  },
  {
   "cell_type": "code",
   "execution_count": 18,
   "metadata": {},
   "outputs": [
    {
     "output_type": "execute_result",
     "data": {
      "text/plain": [
       "         type                                           headline\n",
       "0           0            stocks that hit 52-week highs on friday\n",
       "1           0         stocks that hit 52-week highs on wednesday\n",
       "2           0                      71 biggest movers from friday\n",
       "3           0       46 stocks moving in friday's mid-day session\n",
       "4           1  b of a securities maintains neutral on agilent...\n",
       "...       ...                                                ...\n",
       "1048568     3  morgan stanley downgrades qlogic corporation t...\n",
       "1048571     3  update: qlogic announces restructuring plan, t...\n",
       "1048572     3  qlogic announces restructuring plan, to cut jo...\n",
       "1048573     3  qlogic corporation reports q4 eps of $0.17 vs ...\n",
       "1048574     3     qlogic reports new $125m revolving credit line\n",
       "\n",
       "[617228 rows x 2 columns]"
      ],
      "text/html": "<div>\n<style scoped>\n    .dataframe tbody tr th:only-of-type {\n        vertical-align: middle;\n    }\n\n    .dataframe tbody tr th {\n        vertical-align: top;\n    }\n\n    .dataframe thead th {\n        text-align: right;\n    }\n</style>\n<table border=\"1\" class=\"dataframe\">\n  <thead>\n    <tr style=\"text-align: right;\">\n      <th></th>\n      <th>type</th>\n      <th>headline</th>\n    </tr>\n  </thead>\n  <tbody>\n    <tr>\n      <th>0</th>\n      <td>0</td>\n      <td>stocks that hit 52-week highs on friday</td>\n    </tr>\n    <tr>\n      <th>1</th>\n      <td>0</td>\n      <td>stocks that hit 52-week highs on wednesday</td>\n    </tr>\n    <tr>\n      <th>2</th>\n      <td>0</td>\n      <td>71 biggest movers from friday</td>\n    </tr>\n    <tr>\n      <th>3</th>\n      <td>0</td>\n      <td>46 stocks moving in friday's mid-day session</td>\n    </tr>\n    <tr>\n      <th>4</th>\n      <td>1</td>\n      <td>b of a securities maintains neutral on agilent...</td>\n    </tr>\n    <tr>\n      <th>...</th>\n      <td>...</td>\n      <td>...</td>\n    </tr>\n    <tr>\n      <th>1048568</th>\n      <td>3</td>\n      <td>morgan stanley downgrades qlogic corporation t...</td>\n    </tr>\n    <tr>\n      <th>1048571</th>\n      <td>3</td>\n      <td>update: qlogic announces restructuring plan, t...</td>\n    </tr>\n    <tr>\n      <th>1048572</th>\n      <td>3</td>\n      <td>qlogic announces restructuring plan, to cut jo...</td>\n    </tr>\n    <tr>\n      <th>1048573</th>\n      <td>3</td>\n      <td>qlogic corporation reports q4 eps of $0.17 vs ...</td>\n    </tr>\n    <tr>\n      <th>1048574</th>\n      <td>3</td>\n      <td>qlogic reports new $125m revolving credit line</td>\n    </tr>\n  </tbody>\n</table>\n<p>617228 rows × 2 columns</p>\n</div>"
     },
     "metadata": {},
     "execution_count": 18
    }
   ],
   "source": [
    "df_news_type['type'] = df_news_type['type'].map(mapper)\n",
    "df_news_type"
   ]
  },
  {
   "cell_type": "code",
   "execution_count": 19,
   "metadata": {},
   "outputs": [
    {
     "output_type": "execute_result",
     "data": {
      "text/plain": [
       "    count          %\n",
       "0  246174  39.883803\n",
       "3  150656  24.408484\n",
       "1  123136  19.949840\n",
       "2   48158   7.802303\n",
       "6   17875   2.896012\n",
       "4   16471   2.668544\n",
       "5   14758   2.391013"
      ],
      "text/html": "<div>\n<style scoped>\n    .dataframe tbody tr th:only-of-type {\n        vertical-align: middle;\n    }\n\n    .dataframe tbody tr th {\n        vertical-align: top;\n    }\n\n    .dataframe thead th {\n        text-align: right;\n    }\n</style>\n<table border=\"1\" class=\"dataframe\">\n  <thead>\n    <tr style=\"text-align: right;\">\n      <th></th>\n      <th>count</th>\n      <th>%</th>\n    </tr>\n  </thead>\n  <tbody>\n    <tr>\n      <th>0</th>\n      <td>246174</td>\n      <td>39.883803</td>\n    </tr>\n    <tr>\n      <th>3</th>\n      <td>150656</td>\n      <td>24.408484</td>\n    </tr>\n    <tr>\n      <th>1</th>\n      <td>123136</td>\n      <td>19.949840</td>\n    </tr>\n    <tr>\n      <th>2</th>\n      <td>48158</td>\n      <td>7.802303</td>\n    </tr>\n    <tr>\n      <th>6</th>\n      <td>17875</td>\n      <td>2.896012</td>\n    </tr>\n    <tr>\n      <th>4</th>\n      <td>16471</td>\n      <td>2.668544</td>\n    </tr>\n    <tr>\n      <th>5</th>\n      <td>14758</td>\n      <td>2.391013</td>\n    </tr>\n  </tbody>\n</table>\n</div>"
     },
     "metadata": {},
     "execution_count": 19
    }
   ],
   "source": [
    "count = pd.concat([df_news_type['type'].value_counts(), df_news_type['type'].value_counts() / len(df_news_type['type']) * 100], axis=1)\n",
    "count.columns = ['count', '%']\n",
    "count.sort_values(by='%', ascending=False)"
   ]
  }
 ]
}